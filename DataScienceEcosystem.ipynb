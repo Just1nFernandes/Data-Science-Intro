{
 "cells": [
  {
   "cell_type": "markdown",
   "id": "07dc70ab-233c-4c50-9c55-41042ed61451",
   "metadata": {},
   "source": [
    "# Data Science Tools and Ecosystem"
   ]
  },
  {
   "cell_type": "markdown",
   "id": "b2da2fb2-8bdd-43c5-b06b-007b2d16ebfd",
   "metadata": {},
   "source": [
    "In this notebook, Data Science Tools and Ecosystem are summarized."
   ]
  },
  {
   "cell_type": "markdown",
   "id": "e4ebadad-86ac-4beb-abf0-397f59f483ca",
   "metadata": {},
   "source": [
    "## Author\n",
    "Justin Fernandes"
   ]
  },
  {
   "cell_type": "markdown",
   "id": "a39e5fb7-0661-4a2f-85a9-492c95ddb8cc",
   "metadata": {},
   "source": [
    "**Objectives:**\n",
    "- List popular languages in data science\n",
    "- List popular libraries in data science\n",
    "- Create different headings\n",
    "- Create tables\n",
    "- Create math equations"
   ]
  },
  {
   "cell_type": "markdown",
   "id": "36079dd8-d7b0-4f8b-abcf-565cc7bbfcdf",
   "metadata": {
    "tags": []
   },
   "source": [
    "Some of the popular languages that Data Scientists use are:"
   ]
  },
  {
   "cell_type": "markdown",
   "id": "e9f3907a-939f-4a36-af1c-76bf8daf8139",
   "metadata": {
    "tags": []
   },
   "source": [
    "- Python\n",
    "- C++\n",
    "- R"
   ]
  },
  {
   "cell_type": "markdown",
   "id": "91c56458-8d3f-414b-9a3e-9bc120ccfb3a",
   "metadata": {
    "tags": []
   },
   "source": [
    "Some of the popular Libraries that Data Scientists use are:"
   ]
  },
  {
   "cell_type": "markdown",
   "id": "9b34643f-ad32-4448-ac55-3297efb9f436",
   "metadata": {
    "tags": []
   },
   "source": [
    "- Numpy\n",
    "- Pandas\n",
    "- Matplotlib"
   ]
  },
  {
   "cell_type": "markdown",
   "id": "b027b027-e8ec-4383-997a-2872b3f6d23c",
   "metadata": {},
   "source": [
    "|Data Science Tools|\n",
    "|-----|\n",
    "|VsCode|\n",
    "|Google Colab|\n",
    "|Jupyter Notebook|"
   ]
  },
  {
   "cell_type": "markdown",
   "id": "508441de-8603-4061-8dd4-1d295354cc86",
   "metadata": {},
   "source": [
    "### Below are a few examples of evaluating arithmetic expressions in Python"
   ]
  },
  {
   "cell_type": "code",
   "execution_count": 3,
   "id": "9e78ad18-1df9-4f16-b21d-8ada3674f72b",
   "metadata": {
    "tags": []
   },
   "outputs": [
    {
     "data": {
      "text/plain": [
       "17"
      ]
     },
     "execution_count": 3,
     "metadata": {},
     "output_type": "execute_result"
    }
   ],
   "source": [
    "#This a simple arithmetic expression to mutiply then add integers\n",
    "\n",
    "(3*4)+5"
   ]
  },
  {
   "cell_type": "code",
   "execution_count": 4,
   "id": "0f1bf13a-5ec2-4721-9554-6207d307e23e",
   "metadata": {
    "tags": []
   },
   "outputs": [
    {
     "data": {
      "text/plain": [
       "3.3333333333333335"
      ]
     },
     "execution_count": 4,
     "metadata": {},
     "output_type": "execute_result"
    }
   ],
   "source": [
    "#This will convert 200 minutes to hours by diving by 60\n",
    "\n",
    "200/60"
   ]
  }
 ],
 "metadata": {
  "kernelspec": {
   "display_name": "Python",
   "language": "python",
   "name": "conda-env-python-py"
  },
  "language_info": {
   "codemirror_mode": {
    "name": "ipython",
    "version": 3
   },
   "file_extension": ".py",
   "mimetype": "text/x-python",
   "name": "python",
   "nbconvert_exporter": "python",
   "pygments_lexer": "ipython3",
   "version": "3.7.12"
  }
 },
 "nbformat": 4,
 "nbformat_minor": 5
}
